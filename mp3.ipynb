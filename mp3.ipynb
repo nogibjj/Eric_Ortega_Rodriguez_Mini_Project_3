{
  "cells": [
    {
      "cell_type": "code",
      "execution_count": 1,
      "metadata": {
        "id": "rlb9mPoxkoJH"
      },
      "outputs": [],
      "source": [
        "\"\"\"\n",
        "        library file\n",
        "\"\"\"\n",
        "\n",
        "# import pandas as pd\n",
        "import polars as pl\n",
        "import matplotlib.pyplot as plt\n",
        "import altair as alt\n",
        "\n",
        "dataset = (\n",
        "    \"https://raw.githubusercontent.com/fivethirtyeight/data/master/drug-use-by-age/drug-use-by-age.csv\"\n",
        ")\n",
        "\n",
        "\n",
        "def load_dataset():\n",
        "    df = pl.read_csv(dataset)\n",
        "    return df\n",
        "\n",
        "def grab_mean(df, col):\n",
        "    return df[col].mean()\n",
        "\n",
        "def grab_median(df,col):\n",
        "    return df[col].median()\n",
        "\n",
        "# def grab STD\n",
        "def grab_std(df,col):\n",
        "    return df[col].std()\n",
        "\n",
        "# def grab max\n",
        "def grab_max(df,col):\n",
        "    return df[col].max()\n",
        "\n",
        "def create_histogram(df , col):\n",
        "    df_pd = df.to_pandas()\n",
        "\n",
        "    plt.hist(df_pd[col], bins=10, edgecolor='black')\n",
        "    plt.title(f'Histogram of {col}')\n",
        "    plt.xlabel(col)\n",
        "    plt.ylabel('Frequency')\n",
        "    plt.show()\n",
        "\n",
        "df1 = load_dataset()\n",
        "df1.head()\n",
        "\n",
        "mean_alc = grab_mean(df1,\"marijuana_use\")\n",
        "\n",
        "median_alc = grab_median(df1,\"marijuana_use\")\n",
        "\n",
        "std_alc = grab_std(df1,\"marijuana_use\")\n",
        "\n",
        "max_alc = grab_max(df1,\"marijuana_use\")\n",
        "\n"
      ]
    },
    {
      "cell_type": "code",
      "execution_count": 2,
      "metadata": {
        "colab": {
          "base_uri": "https://localhost:8080/"
        },
        "id": "-ZX1wEyZko7B",
        "outputId": "5f9072c7-42be-42eb-c6cd-96b5f188762f"
      },
      "outputs": [
        {
          "name": "stdout",
          "output_type": "stream",
          "text": [
            "18.923529411764704\n"
          ]
        }
      ],
      "source": [
        "mean_alc = grab_mean(df1,\"marijuana_use\")\n",
        "print(mean_alc)"
      ]
    },
    {
      "cell_type": "code",
      "execution_count": 3,
      "metadata": {
        "colab": {
          "base_uri": "https://localhost:8080/"
        },
        "id": "UMfxt2I-krmY",
        "outputId": "0d0389c5-703f-4af3-fc8c-2ec1fa42a593"
      },
      "outputs": [
        {
          "name": "stdout",
          "output_type": "stream",
          "text": [
            "11.959751743439572\n"
          ]
        }
      ],
      "source": [
        "std_alc = grab_std(df1,\"marijuana_use\")\n",
        "print(std_alc)"
      ]
    },
    {
      "cell_type": "code",
      "execution_count": 4,
      "metadata": {
        "colab": {
          "base_uri": "https://localhost:8080/"
        },
        "id": "i5uORvYskt_8",
        "outputId": "ecf51504-878f-4d42-f07b-3bd9b2e00981"
      },
      "outputs": [
        {
          "name": "stdout",
          "output_type": "stream",
          "text": [
            "34.0\n"
          ]
        }
      ],
      "source": [
        "max_alc = grab_max(df1,\"marijuana_use\")\n",
        "print(max_alc)"
      ]
    },
    {
      "cell_type": "code",
      "execution_count": 5,
      "metadata": {
        "colab": {
          "base_uri": "https://localhost:8080/",
          "height": 472
        },
        "id": "89O2s_E2lYRJ",
        "outputId": "84aa179f-36e7-4002-cb96-25d6afb202d3"
      },
      "outputs": [
        {
          "data": {
            "image/png": "[encoded data removed]",
            "text/plain": [
              "<Figure size 640x480 with 1 Axes>"
            ]
          },
          "metadata": {},
          "output_type": "display_data"
        }
      ],
      "source": [
        "create_histogram(df1,\"marijuana_use\")"
      ]
    },
    {
      "cell_type": "code",
      "execution_count": null,
      "metadata": {
        "id": "6H0aERmnlftM"
      },
      "outputs": [],
      "source": []
    }
  ],
  "metadata": {
    "colab": {
      "provenance": []
    },
    "kernelspec": {
      "display_name": "Python 3",
      "name": "python3"
    },
    "language_info": {
      "codemirror_mode": {
        "name": "ipython",
        "version": 3
      },
      "file_extension": ".py",
      "mimetype": "text/x-python",
      "name": "python",
      "nbconvert_exporter": "python",
      "pygments_lexer": "ipython3",
      "version": "3.12.6"
    }
  },
  "nbformat": 4,
  "nbformat_minor": 0
}
